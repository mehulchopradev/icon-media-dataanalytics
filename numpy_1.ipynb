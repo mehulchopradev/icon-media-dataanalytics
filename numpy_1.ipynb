{
 "cells": [
  {
   "cell_type": "code",
   "execution_count": 37,
   "metadata": {},
   "outputs": [],
   "source": [
    "import numpy as np"
   ]
  },
  {
   "cell_type": "code",
   "execution_count": 38,
   "metadata": {},
   "outputs": [],
   "source": [
    "marks = [5, 6, 10, 6, 7, 3, 4, 10, 10, 1]"
   ]
  },
  {
   "cell_type": "code",
   "execution_count": 39,
   "metadata": {},
   "outputs": [
    {
     "name": "stdout",
     "output_type": "stream",
     "text": [
      "[ 5  6 10  6  7  3  4 10 10  1]\n",
      "<class 'numpy.ndarray'>\n",
      "1\n",
      "(10,)\n",
      "int8\n"
     ]
    }
   ],
   "source": [
    "# visualize data as a numpy ndarray\n",
    "n1 = np.array(marks, dtype=np.int8)\n",
    "print(n1)\n",
    "print(type(n1))\n",
    "print(n1.ndim)\n",
    "print(n1.shape)\n",
    "print(n1.dtype)"
   ]
  },
  {
   "cell_type": "code",
   "execution_count": 40,
   "metadata": {},
   "outputs": [
    {
     "name": "stdout",
     "output_type": "stream",
     "text": [
      "[4 5 9 5 6 2 3 9 9 0]\n",
      "[ 5  6 10  6  7  3  4 10 10  1]\n"
     ]
    }
   ],
   "source": [
    "# Vectorized arithmetic operations\n",
    "# Deduct 1 mark from every student of the class\n",
    "n2 = n1 - 1\n",
    "print(n2)\n",
    "\n",
    "n3 = n2 + 1\n",
    "print(n3)"
   ]
  },
  {
   "cell_type": "code",
   "execution_count": 41,
   "metadata": {},
   "outputs": [
    {
     "name": "stdout",
     "output_type": "stream",
     "text": [
      "5\n",
      "10\n",
      "[5 1]\n",
      "[ 5  8 10  6  7  3  4 10 10  1]\n",
      "[ 5  8  0  6  7  3  4 10 10  0]\n"
     ]
    }
   ],
   "source": [
    "# indexing in a numpy ndarray\n",
    "print(n1[0])\n",
    "print(n1[-2])\n",
    "print(n1[[0, -1]]) # multi indexing\n",
    "\n",
    "# modify the marks scored by the second student of the class\n",
    "n1[1] = 8\n",
    "print(n1)\n",
    "n1[[2, -1]] = 0\n",
    "print(n1)"
   ]
  },
  {
   "cell_type": "code",
   "execution_count": 43,
   "metadata": {},
   "outputs": [
    {
     "name": "stdout",
     "output_type": "stream",
     "text": [
      "[ 0  0  0  6  7  3  4 10 10  0]\n",
      "[0 0 0]\n",
      "[0 0 0]\n",
      "[ 4 10 10  0]\n",
      "[ 0  0  0  6  7  3  4 10 10  0]\n",
      "[ 1  3  5  6  7  3  4 10 10  0]\n"
     ]
    }
   ],
   "source": [
    "# slicing\n",
    "print(n1)\n",
    "first_three = n1[0:3]\n",
    "print(first_three)\n",
    "print(n1[:3])\n",
    "print(n1[-4:])\n",
    "\n",
    "# slice and modify\n",
    "''' first_three = n1[:3]\n",
    "print(first_three)\n",
    "first_three[0] = 0\n",
    "print(first_three)\n",
    "print(n1) '''\n",
    "n1[:3] = 0\n",
    "print(n1)\n",
    "\n",
    "n1[:3] = [1, 3, 5]\n",
    "print(n1)"
   ]
  },
  {
   "cell_type": "code",
   "execution_count": 52,
   "metadata": {},
   "outputs": [
    {
     "name": "stdout",
     "output_type": "stream",
     "text": [
      "[ 1  3  5  6  7  3  4 10 10  0]\n",
      "4.9\n",
      "4.5\n",
      "3.23882694814033\n",
      "10.490000000000002\n",
      "0\n",
      "10\n"
     ]
    }
   ],
   "source": [
    "# descriptive statistics\n",
    "print(n1)\n",
    "print(n1.mean())\n",
    "print(np.median(n1))\n",
    "print(n1.std())\n",
    "print(n1.var())\n",
    "print(n1.min())\n",
    "print(n1.max())"
   ]
  },
  {
   "cell_type": "code",
   "execution_count": 59,
   "metadata": {},
   "outputs": [
    {
     "name": "stdout",
     "output_type": "stream",
     "text": [
      "[ 1  3  5  6  7  3  4 10 10  0]\n",
      "[False False False  True  True False False  True  True False]\n",
      "[ 6  7 10 10]\n",
      "[10 10  0]\n"
     ]
    }
   ],
   "source": [
    "# filtering\n",
    "print(n1)\n",
    "# filter out all the students who got more than 5 marks\n",
    "print(n1 > 5)\n",
    "more_than_5 = n1[n1 > 5]\n",
    "print(more_than_5)\n",
    "\n",
    "# filter out all the students who either got a 0 or scored 10\n",
    "n5 = n1[(n1 == 0) | (n1 == 10)] # dont use 'and'. USe '&'\n",
    "print(n5)"
   ]
  },
  {
   "cell_type": "code",
   "execution_count": 61,
   "metadata": {},
   "outputs": [
    {
     "name": "stdout",
     "output_type": "stream",
     "text": [
      "[ 1  3  5  6  7  3  4 10 10  0]\n",
      "[0 0 1 1 1 0 0 1 1 0]\n"
     ]
    }
   ],
   "source": [
    "print(n1)\n",
    "n6 = np.where(n1 >= 5, 1, 0)\n",
    "print(n6)"
   ]
  }
 ],
 "metadata": {
  "kernelspec": {
   "display_name": "Python 3",
   "language": "python",
   "name": "python3"
  },
  "language_info": {
   "codemirror_mode": {
    "name": "ipython",
    "version": 3
   },
   "file_extension": ".py",
   "mimetype": "text/x-python",
   "name": "python",
   "nbconvert_exporter": "python",
   "pygments_lexer": "ipython3",
   "version": "3.8.6"
  }
 },
 "nbformat": 4,
 "nbformat_minor": 4
}
