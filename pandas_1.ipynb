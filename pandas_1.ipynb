{
 "cells": [
  {
   "cell_type": "code",
   "execution_count": 6,
   "metadata": {},
   "outputs": [],
   "source": [
    "import pandas as pd\n",
    "from pandas import Series"
   ]
  },
  {
   "cell_type": "code",
   "execution_count": 3,
   "metadata": {},
   "outputs": [],
   "source": [
    "# Two data structures\n",
    "# Series - 1D data - Built in class\n",
    "# DataFrame - 2D data (tabular data)\n",
    "# DataFrame is made up of Series"
   ]
  },
  {
   "cell_type": "code",
   "execution_count": 4,
   "metadata": {},
   "outputs": [],
   "source": [
    "marks = [5, 6, 5, 2, 1, 10, 9, 6, 5, 7]"
   ]
  },
  {
   "cell_type": "code",
   "execution_count": 7,
   "metadata": {},
   "outputs": [
    {
     "name": "stdout",
     "output_type": "stream",
     "text": [
      "0     5\n",
      "1     6\n",
      "2     5\n",
      "3     2\n",
      "4     1\n",
      "5    10\n",
      "6     9\n",
      "7     6\n",
      "8     5\n",
      "9     7\n",
      "dtype: int64\n"
     ]
    }
   ],
   "source": [
    "s1 = Series(marks)\n",
    "print(s1)"
   ]
  },
  {
   "cell_type": "code",
   "execution_count": 8,
   "metadata": {},
   "outputs": [
    {
     "name": "stdout",
     "output_type": "stream",
     "text": [
      "1      5\n",
      "4      6\n",
      "3      5\n",
      "2      2\n",
      "6      1\n",
      "11    10\n",
      "8      9\n",
      "12     6\n",
      "10     5\n",
      "13     7\n",
      "dtype: int64\n"
     ]
    }
   ],
   "source": [
    "roll = [1, 4, 3, 2, 6, 11, 8, 12, 10, 13]\n",
    "s2 = Series(marks, index=roll)\n",
    "print(s2)"
   ]
  },
  {
   "cell_type": "code",
   "execution_count": 11,
   "metadata": {},
   "outputs": [
    {
     "name": "stdout",
     "output_type": "stream",
     "text": [
      "RangeIndex(start=0, stop=10, step=1)\n",
      "Int64Index([1, 4, 3, 2, 6, 11, 8, 12, 10, 13], dtype='int64')\n",
      "[ 5  6  5  2  1 10  9  6  5  7]\n",
      "[ 5  6  5  2  1 10  9  6  5  7]\n"
     ]
    }
   ],
   "source": [
    "print(s1.index)\n",
    "print(s2.index)\n",
    "print(s1.values)\n",
    "print(s2.values)"
   ]
  },
  {
   "cell_type": "code",
   "execution_count": 12,
   "metadata": {},
   "outputs": [
    {
     "name": "stdout",
     "output_type": "stream",
     "text": [
      "1     5\n",
      "4    10\n",
      "3     9\n",
      "5     7\n",
      "dtype: int64\n"
     ]
    }
   ],
   "source": [
    "student_marks = {1: 5, 4: 10, 3: 9, 5: 7}\n",
    "s3 = Series(student_marks)\n",
    "print(s3)"
   ]
  },
  {
   "cell_type": "code",
   "execution_count": 20,
   "metadata": {},
   "outputs": [
    {
     "name": "stdout",
     "output_type": "stream",
     "text": [
      "1      5\n",
      "4      6\n",
      "3      5\n",
      "2      2\n",
      "6      1\n",
      "11    10\n",
      "8      9\n",
      "12     6\n",
      "10     5\n",
      "13     7\n",
      "dtype: int64\n",
      "6\n",
      "9\n",
      "1     5\n",
      "6     1\n",
      "12    6\n",
      "dtype: int64\n",
      "5\n",
      "5\n",
      "1     5\n",
      "13    7\n",
      "dtype: int64\n"
     ]
    }
   ],
   "source": [
    "print(s2)\n",
    "# indexing\n",
    "# indexing on the basis of the roll no (provided index)\n",
    "\n",
    "print(s2.loc[4])\n",
    "print(s2.loc[8])\n",
    "s4 = s2.loc[[1, 6, 12]]\n",
    "print(s4)\n",
    "\n",
    "# indexing on the basis of the 0 based index (implicit)\n",
    "print(s2.iloc[0])\n",
    "print(s2.iloc[-2])\n",
    "print(s2.iloc[[0, -1]])"
   ]
  },
  {
   "cell_type": "code",
   "execution_count": 23,
   "metadata": {},
   "outputs": [
    {
     "name": "stdout",
     "output_type": "stream",
     "text": [
      "1      5\n",
      "4      6\n",
      "3     10\n",
      "2      2\n",
      "6      1\n",
      "11    10\n",
      "8      9\n",
      "12     6\n",
      "10     5\n",
      "13     7\n",
      "dtype: int64\n",
      "1      5\n",
      "4      6\n",
      "3     10\n",
      "2      2\n",
      "6      1\n",
      "11    10\n",
      "8      9\n",
      "12     6\n",
      "10     5\n",
      "13     7\n",
      "dtype: int64\n",
      "1      0\n",
      "4      6\n",
      "3     10\n",
      "2      2\n",
      "6      1\n",
      "11    10\n",
      "8      9\n",
      "12     6\n",
      "10     5\n",
      "13     7\n",
      "dtype: int64\n"
     ]
    }
   ],
   "source": [
    "# indexing + modification\n",
    "print(s2)\n",
    "\n",
    "s2.loc[3] = 10\n",
    "print(s2)\n",
    "\n",
    "s2.iloc[0] = 0\n",
    "print(s2)"
   ]
  },
  {
   "cell_type": "code",
   "execution_count": 28,
   "metadata": {},
   "outputs": [
    {
     "name": "stdout",
     "output_type": "stream",
     "text": [
      "1      0\n",
      "4      6\n",
      "3     10\n",
      "2      2\n",
      "6      1\n",
      "11    10\n",
      "8      9\n",
      "12     6\n",
      "10     5\n",
      "13     7\n",
      "dtype: int64\n",
      "1     0\n",
      "4     6\n",
      "3    10\n",
      "2     2\n",
      "dtype: int64\n",
      "12    6\n",
      "10    5\n",
      "13    7\n",
      "dtype: int64\n",
      "1     0\n",
      "4     6\n",
      "3    10\n",
      "dtype: int64\n",
      "6      1\n",
      "11    10\n",
      "8      9\n",
      "12     6\n",
      "10     5\n",
      "dtype: int64\n"
     ]
    }
   ],
   "source": [
    "# slicing\n",
    "print(s2)\n",
    "\n",
    "# slicing by the implicit 0 based index\n",
    "print(s2.iloc[0:4])\n",
    "print(s2.iloc[-3:])\n",
    "\n",
    "# slicing by the provided index (roll)\n",
    "print(s2.loc[1:3])\n",
    "print(s2.loc[6:10])"
   ]
  },
  {
   "cell_type": "code",
   "execution_count": 30,
   "metadata": {},
   "outputs": [
    {
     "name": "stdout",
     "output_type": "stream",
     "text": [
      "1      0\n",
      "4      6\n",
      "3     10\n",
      "2      2\n",
      "6      1\n",
      "11    10\n",
      "8      9\n",
      "12     6\n",
      "10     5\n",
      "13     7\n",
      "dtype: int64\n",
      "1      0\n",
      "4      0\n",
      "3      0\n",
      "2      2\n",
      "6      1\n",
      "11    10\n",
      "8      9\n",
      "12     6\n",
      "10     5\n",
      "13     7\n",
      "dtype: int64\n"
     ]
    }
   ],
   "source": [
    "# slicing + modification\n",
    "print(s2)\n",
    "\n",
    "s2.iloc[:3] = 0\n",
    "print(s2)"
   ]
  },
  {
   "cell_type": "code",
   "execution_count": 35,
   "metadata": {},
   "outputs": [
    {
     "name": "stdout",
     "output_type": "stream",
     "text": [
      "1      0\n",
      "4      0\n",
      "3      0\n",
      "2      2\n",
      "6      1\n",
      "11    10\n",
      "8      9\n",
      "12     6\n",
      "10     5\n",
      "13     7\n",
      "dtype: int64\n",
      "1     False\n",
      "4     False\n",
      "3     False\n",
      "2     False\n",
      "6     False\n",
      "11     True\n",
      "8      True\n",
      "12     True\n",
      "10     True\n",
      "13     True\n",
      "dtype: bool\n",
      "11    10\n",
      "8      9\n",
      "12     6\n",
      "10     5\n",
      "13     7\n",
      "dtype: int64\n",
      "1      0\n",
      "4      0\n",
      "3      0\n",
      "11    10\n",
      "dtype: int64\n"
     ]
    }
   ],
   "source": [
    "# filtering\n",
    "print(s2)\n",
    "print(s2 >= 5)\n",
    "s4 = s2.loc[s2 >= 5]\n",
    "print(s4)\n",
    "\n",
    "print(s2.loc[(s2 == 0) | (s2 > 9)])"
   ]
  },
  {
   "cell_type": "code",
   "execution_count": 41,
   "metadata": {},
   "outputs": [
    {
     "name": "stdout",
     "output_type": "stream",
     "text": [
      "1      0\n",
      "4      0\n",
      "3      0\n",
      "2      2\n",
      "6      1\n",
      "11    10\n",
      "8      9\n",
      "12     6\n",
      "10     5\n",
      "13     7\n",
      "dtype: int64\n",
      "4.0\n",
      "3.5\n",
      "0    0\n",
      "dtype: int64\n",
      "3.8873012632302\n",
      "15.11111111111111\n"
     ]
    }
   ],
   "source": [
    "print(s2)\n",
    "print(s2.mean())\n",
    "print(s2.median())\n",
    "print(s2.mode())\n",
    "print(s2.std())\n",
    "print(s2.var())"
   ]
  },
  {
   "cell_type": "code",
   "execution_count": 42,
   "metadata": {},
   "outputs": [
    {
     "name": "stdout",
     "output_type": "stream",
     "text": [
      "count    10.000000\n",
      "mean      4.000000\n",
      "std       3.887301\n",
      "min       0.000000\n",
      "25%       0.250000\n",
      "50%       3.500000\n",
      "75%       6.750000\n",
      "max      10.000000\n",
      "dtype: float64\n"
     ]
    }
   ],
   "source": [
    "print(s2.describe())"
   ]
  },
  {
   "cell_type": "code",
   "execution_count": 48,
   "metadata": {},
   "outputs": [
    {
     "name": "stdout",
     "output_type": "stream",
     "text": [
      "1      0\n",
      "4      0\n",
      "3      0\n",
      "2      2\n",
      "6      1\n",
      "11    10\n",
      "8      9\n",
      "12     6\n",
      "10     5\n",
      "13     7\n",
      "dtype: int64\n",
      "[ 0  2  1 10  9  6  5  7]\n",
      "0     3\n",
      "10    1\n",
      "9     1\n",
      "7     1\n",
      "6     1\n",
      "5     1\n",
      "2     1\n",
      "1     1\n",
      "dtype: int64\n"
     ]
    },
    {
     "data": {
      "text/plain": [
       "<AxesSubplot:>"
      ]
     },
     "execution_count": 48,
     "metadata": {},
     "output_type": "execute_result"
    },
    {
     "data": {
      "image/png": "[encoded data removed]",
      "text/plain": [
       "<Figure size 432x288 with 1 Axes>"
      ]
     },
     "metadata": {
      "needs_background": "light"
     },
     "output_type": "display_data"
    }
   ],
   "source": [
    "print(s2)\n",
    "print(s2.unique())\n",
    "freq_series = s2.value_counts()\n",
    "print(freq_series)\n",
    "freq_series.plot(kind='barh')"
   ]
  },
  {
   "cell_type": "code",
   "execution_count": 49,
   "metadata": {},
   "outputs": [
    {
     "name": "stdout",
     "output_type": "stream",
     "text": [
      "0    23.0\n",
      "1    24.0\n",
      "2    25.0\n",
      "3    24.0\n",
      "4    23.0\n",
      "5     NaN\n",
      "6    26.0\n",
      "7    25.0\n",
      "8    24.0\n",
      "9    25.0\n",
      "dtype: float64\n"
     ]
    }
   ],
   "source": [
    "s6 = Series([23, 24, 25, 24, 23, None, 26, 25, 24, 25])\n",
    "print(s6)"
   ]
  },
  {
   "cell_type": "code",
   "execution_count": 50,
   "metadata": {},
   "outputs": [
    {
     "name": "stdout",
     "output_type": "stream",
     "text": [
      "0    23.0\n",
      "1    24.0\n",
      "2    25.0\n",
      "3    24.0\n",
      "4    23.0\n",
      "6    26.0\n",
      "7    25.0\n",
      "8    24.0\n",
      "9    25.0\n",
      "dtype: float64\n"
     ]
    }
   ],
   "source": [
    "# ignore missing data\n",
    "s7 = s6.dropna()\n",
    "print(s7)"
   ]
  },
  {
   "cell_type": "code",
   "execution_count": 51,
   "metadata": {},
   "outputs": [
    {
     "name": "stdout",
     "output_type": "stream",
     "text": [
      "0    23.000000\n",
      "1    24.000000\n",
      "2    25.000000\n",
      "3    24.000000\n",
      "4    23.000000\n",
      "5    24.333333\n",
      "6    26.000000\n",
      "7    25.000000\n",
      "8    24.000000\n",
      "9    25.000000\n",
      "dtype: float64\n"
     ]
    }
   ],
   "source": [
    "# fill in data with default value\n",
    "s8 = s6.fillna(s7.mean())\n",
    "print(s8)"
   ]
  },
  {
   "cell_type": "code",
   "execution_count": 52,
   "metadata": {},
   "outputs": [
    {
     "name": "stdout",
     "output_type": "stream",
     "text": [
      "0    23.0\n",
      "1    24.0\n",
      "2    25.0\n",
      "3    24.0\n",
      "4    23.0\n",
      "5    23.0\n",
      "6    26.0\n",
      "7    25.0\n",
      "8    24.0\n",
      "9    25.0\n",
      "dtype: float64\n"
     ]
    }
   ],
   "source": [
    "# forward filling of the data\n",
    "s9 = s6.ffill()\n",
    "print(s9)"
   ]
  },
  {
   "cell_type": "code",
   "execution_count": 57,
   "metadata": {},
   "outputs": [
    {
     "name": "stdout",
     "output_type": "stream",
     "text": [
      "1      0\n",
      "4      0\n",
      "3      0\n",
      "2      2\n",
      "6      1\n",
      "11    10\n",
      "8      9\n",
      "12     6\n",
      "10     5\n",
      "13     7\n",
      "dtype: int64\n",
      "11    10\n",
      "8      9\n",
      "13     7\n",
      "12     6\n",
      "10     5\n",
      "2      2\n",
      "6      1\n",
      "3      0\n",
      "4      0\n",
      "1      0\n",
      "dtype: int64\n",
      "1      0\n",
      "2      2\n",
      "3      0\n",
      "4      0\n",
      "6      1\n",
      "8      9\n",
      "10     5\n",
      "11    10\n",
      "12     6\n",
      "13     7\n",
      "dtype: int64\n"
     ]
    }
   ],
   "source": [
    "print(s2)\n",
    "print(s2.sort_values(ascending=False))\n",
    "print(s2.sort_index())"
   ]
  }
 ],
 "metadata": {
  "kernelspec": {
   "display_name": "Python 3",
   "language": "python",
   "name": "python3"
  },
  "language_info": {
   "codemirror_mode": {
    "name": "ipython",
    "version": 3
   },
   "file_extension": ".py",
   "mimetype": "text/x-python",
   "name": "python",
   "nbconvert_exporter": "python",
   "pygments_lexer": "ipython3",
   "version": "3.8.6"
  }
 },
 "nbformat": 4,
 "nbformat_minor": 4
}
