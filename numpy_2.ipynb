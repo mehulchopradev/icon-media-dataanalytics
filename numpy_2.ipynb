{
 "cells": [
  {
   "cell_type": "code",
   "execution_count": 1,
   "metadata": {},
   "outputs": [],
   "source": [
    "import numpy as np"
   ]
  },
  {
   "cell_type": "code",
   "execution_count": 2,
   "metadata": {},
   "outputs": [],
   "source": [
    "marks = [\n",
    "    [99, 90, 89],\n",
    "    [100, 78, 80],\n",
    "    [88, 99, 100]\n",
    "]"
   ]
  },
  {
   "cell_type": "code",
   "execution_count": 7,
   "metadata": {},
   "outputs": [
    {
     "name": "stdout",
     "output_type": "stream",
     "text": [
      "[[ 99  90  89]\n",
      " [100  78  80]\n",
      " [ 88  99 100]]\n",
      "<class 'numpy.ndarray'>\n",
      "2\n",
      "(3, 3)\n",
      "int16\n"
     ]
    }
   ],
   "source": [
    "n1 = np.array(marks, dtype=np.int16)\n",
    "print(n1)\n",
    "print(type(n1))\n",
    "print(n1.ndim)\n",
    "print(n1.shape)\n",
    "print(n1.dtype)"
   ]
  },
  {
   "cell_type": "code",
   "execution_count": 16,
   "metadata": {},
   "outputs": [
    {
     "name": "stdout",
     "output_type": "stream",
     "text": [
      "[[ 99  90  89]\n",
      " [100  78  80]\n",
      " [ 88  99 100]]\n",
      "[ 88  99 100]\n",
      "[99 90 89]\n",
      "[[ 99  90  89]\n",
      " [ 88  99 100]]\n",
      "99\n",
      "99\n",
      "80\n"
     ]
    }
   ],
   "source": [
    "# indexing\n",
    "print(n1)\n",
    "print(n1[-1])\n",
    "print(n1[0])\n",
    "print(n1[[0, -1]])\n",
    "\n",
    "print(n1[-1][1]) # done in python 2 dimensional lists\n",
    "print(n1[-1, 1]) # faster and numpy way\n",
    "print(n1[1, -1])"
   ]
  },
  {
   "cell_type": "code",
   "execution_count": 21,
   "metadata": {},
   "outputs": [
    {
     "name": "stdout",
     "output_type": "stream",
     "text": [
      "[[ 99  90  89]\n",
      " [100  78  80]\n",
      " [ 88  99 100]]\n",
      "[[ 99  90  89]\n",
      " [100  78  80]]\n",
      "[[90 89]\n",
      " [78 80]]\n",
      "[[100  78]\n",
      " [ 88  99]]\n"
     ]
    }
   ],
   "source": [
    "# slicing\n",
    "print(n1)\n",
    "print(n1[:2])\n",
    "\n",
    "# chemistry and maths marks scored by the first 2 students of the class\n",
    "print(n1[:2, 1:])\n",
    "\n",
    "# physics and chemistry marks scored by the last 2 students od the class\n",
    "print(n1[-2:, :2])"
   ]
  },
  {
   "cell_type": "code",
   "execution_count": 24,
   "metadata": {},
   "outputs": [
    {
     "name": "stdout",
     "output_type": "stream",
     "text": [
      "[[ 99  90  89]\n",
      " [100  78  80]\n",
      " [ 88  99 100]]\n",
      "[[ 90  89]\n",
      " [ 99 100]]\n",
      "[[ 99  89]\n",
      " [100  80]]\n"
     ]
    }
   ],
   "source": [
    "# indexing + slicing\n",
    "print(n1)\n",
    "\n",
    "# chemistry and maths marks scored by the first and last student of the class\n",
    "print(n1[[0, -1], 1:])\n",
    "\n",
    "# physics and maths marks scored by the first 2 students of the class\n",
    "print(n1[:2, [0, -1]])"
   ]
  },
  {
   "cell_type": "code",
   "execution_count": 28,
   "metadata": {},
   "outputs": [
    {
     "name": "stdout",
     "output_type": "stream",
     "text": [
      "[[ 99  90  89]\n",
      " [100  78  80]\n",
      " [ 88  99 100]]\n",
      "[95.66666667 89.         89.66666667]\n",
      "[278 258 287]\n"
     ]
    }
   ],
   "source": [
    "# descriptive statistics\n",
    "print(n1)\n",
    "print(n1.mean(axis=0)) # vertical\n",
    "print(n1.sum(axis=1)) # horizontal"
   ]
  }
 ],
 "metadata": {
  "kernelspec": {
   "display_name": "Python 3",
   "language": "python",
   "name": "python3"
  },
  "language_info": {
   "codemirror_mode": {
    "name": "ipython",
    "version": 3
   },
   "file_extension": ".py",
   "mimetype": "text/x-python",
   "name": "python",
   "nbconvert_exporter": "python",
   "pygments_lexer": "ipython3",
   "version": "3.8.6"
  }
 },
 "nbformat": 4,
 "nbformat_minor": 4
}
